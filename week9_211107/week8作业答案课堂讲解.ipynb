{
 "cells": [
  {
   "cell_type": "code",
   "execution_count": 2,
   "metadata": {},
   "outputs": [
    {
     "name": "stdout",
     "output_type": "stream",
     "text": [
      "hello world!20211107-\n"
     ]
    }
   ],
   "source": [
    "print(\"hello world!20211107-\")"
   ]
  },
  {
   "cell_type": "code",
   "execution_count": 3,
   "metadata": {},
   "outputs": [],
   "source": [
    "import torch\n",
    "\n",
    "def generate_data():\n",
    "    # 本函数生成0-9，10个数字的图片矩阵\n",
    "    image_data=[]\n",
    "    num_0 = torch.tensor(\n",
    "    [[0,0,1,1,0,0],\n",
    "    [0,1,0,0,1,0],\n",
    "    [0,1,0,0,1,0],\n",
    "    [0,1,0,0,1,0],\n",
    "    [0,0,1,1,0,0],\n",
    "    [0,0,0,0,0,0]])\n",
    "    image_data.append(num_0)\n",
    "    num_1 = torch.tensor(\n",
    "    [[0,0,0,1,0,0],\n",
    "    [0,0,1,1,0,0],\n",
    "    [0,0,0,1,0,0],\n",
    "    [0,0,0,1,0,0],\n",
    "    [0,0,1,1,1,0],\n",
    "    [0,0,0,0,0,0]])\n",
    "    image_data.append(num_1)\n",
    "    num_2 = torch.tensor(\n",
    "    [[0,0,1,1,0,0],\n",
    "    [0,1,0,0,1,0],\n",
    "    [0,0,0,1,0,0],\n",
    "    [0,0,1,0,0,0],\n",
    "    [0,1,1,1,1,0],\n",
    "    [0,0,0,0,0,0]])\n",
    "    image_data.append(num_2)\n",
    "    num_3 = torch.tensor(\n",
    "    [[0,0,1,1,0,0],\n",
    "    [0,0,0,0,1,0],\n",
    "    [0,0,1,1,0,0],\n",
    "    [0,0,0,0,1,0],\n",
    "    [0,0,1,1,0,0],\n",
    "    [0,0,0,0,0,0]])\n",
    "    image_data.append(num_3)\n",
    "    num_4 = torch.tensor(\n",
    "    [\n",
    "    [0,0,0,0,1,0],\n",
    "    [0,0,0,1,1,0],\n",
    "    [0,0,1,0,1,0],\n",
    "    [0,1,1,1,1,1],\n",
    "    [0,0,0,0,1,0],\n",
    "    [0,0,0,0,0,0]])\n",
    "    image_data.append(num_4)\n",
    "    num_5 = torch.tensor(\n",
    "    [\n",
    "    [0,1,1,1,0,0],\n",
    "    [0,1,0,0,0,0],\n",
    "    [0,1,1,1,0,0],\n",
    "    [0,0,0,0,1,0],\n",
    "    [0,1,1,1,0,0],\n",
    "    [0,0,0,0,0,0]])\n",
    "    image_data.append(num_5)\n",
    "    num_6 = torch.tensor(\n",
    "    [[0,0,1,1,0,0],\n",
    "    [0,1,0,0,0,0],\n",
    "    [0,1,1,1,0,0],\n",
    "    [0,1,0,0,1,0],\n",
    "    [0,0,1,1,0,0],\n",
    "    [0,0,0,0,0,0]])\n",
    "    image_data.append(num_6)\n",
    "    num_7 = torch.tensor(\n",
    "    [\n",
    "    [0,1,1,1,1,0],\n",
    "    [0,0,0,0,1,0],\n",
    "    [0,0,0,1,0,0],\n",
    "    [0,0,0,1,0,0],\n",
    "    [0,0,0,1,0,0],\n",
    "    [0,0,0,0,0,0]])\n",
    "    image_data.append(num_7)\n",
    "    num_8 = torch.tensor(\n",
    "    [[0,0,1,1,0,0],\n",
    "    [0,1,0,0,1,0],\n",
    "    [0,0,1,1,0,0],\n",
    "    [0,1,0,0,1,0],\n",
    "    [0,0,1,1,0,0],\n",
    "    [0,0,0,0,0,0]])\n",
    "    image_data.append(num_8)\n",
    "    num_9 = torch.tensor(\n",
    "    [[0,0,1,1,1,0],\n",
    "    [0,1,0,0,1,0],\n",
    "    [0,0,1,1,1,0],\n",
    "    [0,0,0,0,1,0],\n",
    "    [0,0,0,0,1,0],\n",
    "    [0,0,0,0,0,0]])\n",
    "    image_data.append(num_9)\n",
    "    return image_data"
   ]
  },
  {
   "cell_type": "code",
   "execution_count": 4,
   "metadata": {},
   "outputs": [],
   "source": [
    "import matplotlib.pyplot as plt"
   ]
  },
  {
   "cell_type": "code",
   "execution_count": 5,
   "metadata": {},
   "outputs": [],
   "source": [
    "image_data = generate_data()"
   ]
  },
  {
   "cell_type": "code",
   "execution_count": 8,
   "metadata": {},
   "outputs": [
    {
     "name": "stdout",
     "output_type": "stream",
     "text": [
      "tensor([[0, 0, 1, 1, 1, 0],\n",
      "        [0, 1, 0, 0, 1, 0],\n",
      "        [0, 0, 1, 1, 1, 0],\n",
      "        [0, 0, 0, 0, 1, 0],\n",
      "        [0, 0, 0, 0, 1, 0],\n",
      "        [0, 0, 0, 0, 0, 0]])\n"
     ]
    }
   ],
   "source": [
    "print(image_data[9])"
   ]
  },
  {
   "cell_type": "code",
   "execution_count": 9,
   "metadata": {},
   "outputs": [],
   "source": [
    "i=0"
   ]
  },
  {
   "cell_type": "code",
   "execution_count": 20,
   "metadata": {},
   "outputs": [
    {
     "data": {
      "image/png": "[encoded data removed]",
      "text/plain": [
       "<Figure size 432x288 with 1 Axes>"
      ]
     },
     "metadata": {
      "needs_background": "light"
     },
     "output_type": "display_data"
    }
   ],
   "source": [
    "plt.imshow(image_data[i%10],cmap='gray')\n",
    "plt.show()\n",
    "i=i+1"
   ]
  },
  {
   "cell_type": "code",
   "execution_count": 38,
   "metadata": {},
   "outputs": [],
   "source": [
    "def get_feature(x):\n",
    "    return torch.sum(x,0)"
   ]
  },
  {
   "cell_type": "code",
   "execution_count": 46,
   "metadata": {},
   "outputs": [],
   "source": [
    "x = image_data[8]"
   ]
  },
  {
   "cell_type": "code",
   "execution_count": 47,
   "metadata": {},
   "outputs": [
    {
     "name": "stdout",
     "output_type": "stream",
     "text": [
      "tensor([0, 2, 3, 3, 2, 0])\n",
      "tensor([[0, 0, 1, 1, 0, 0],\n",
      "        [0, 1, 0, 0, 1, 0],\n",
      "        [0, 0, 1, 1, 0, 0],\n",
      "        [0, 1, 0, 0, 1, 0],\n",
      "        [0, 0, 1, 1, 0, 0],\n",
      "        [0, 0, 0, 0, 0, 0]])\n"
     ]
    }
   ],
   "source": [
    "print(torch.sum(x,0))\n",
    "print(x)"
   ]
  },
  {
   "cell_type": "code",
   "execution_count": 28,
   "metadata": {},
   "outputs": [
    {
     "name": "stdout",
     "output_type": "stream",
     "text": [
      "tensor([2, 5, 4, 4, 5, 0])\n"
     ]
    }
   ],
   "source": [
    "print(get_feature(x))"
   ]
  },
  {
   "cell_type": "code",
   "execution_count": 29,
   "metadata": {},
   "outputs": [
    {
     "name": "stdout",
     "output_type": "stream",
     "text": [
      "tensor([2, 4, 6, 5, 3, 0])\n"
     ]
    }
   ],
   "source": [
    "print(get_feature(image_data[6]))"
   ]
  },
  {
   "cell_type": "code",
   "execution_count": 11,
   "metadata": {
    "collapsed": true
   },
   "outputs": [],
   "source": [
    "i=0"
   ]
  },
  {
   "cell_type": "markdown",
   "metadata": {},
   "source": [
    "# cmap color map"
   ]
  },
  {
   "cell_type": "code",
   "execution_count": 12,
   "metadata": {},
   "outputs": [
    {
     "data": {
      "image/png": "[encoded data removed]",
      "text/plain": [
       "<Figure size 432x288 with 1 Axes>"
      ]
     },
     "metadata": {},
     "output_type": "display_data"
    },
    {
     "name": "stdout",
     "output_type": "stream",
     "text": [
      "tensor([0, 3, 2, 2, 3, 0])\n"
     ]
    }
   ],
   "source": [
    "plt.imshow(image_data[i%10],cmap='gray')\n",
    "plt.show()\n",
    "\n",
    "print(get_feature(image_data[i%10]))\n",
    "i=i+1"
   ]
  },
  {
   "cell_type": "code",
   "execution_count": 31,
   "metadata": {},
   "outputs": [],
   "source": [
    "def model(x,image_data):\n",
    "    y=-1\n",
    "    \n",
    "    for i in range(0,10):\n",
    "        #diff_tmp = x-image_data[i]\n",
    "        diff_feature = get_feature(x)-get_feature(image_data[i])\n",
    "        #print(\"i=%s\"%(i))\n",
    "        #print(\"diff_tmp=%s\"%(diff_tmp))\n",
    "        #print(\"sum(diff_tmp)=%s\"%(torch.sum(torch.abs(diff_tmp))))\n",
    "        #if torch.sum(torch.abs(diff_tmp))==0:\n",
    "        if torch.sum(torch.abs(diff_feature))==0:\n",
    "            \n",
    "            y=i\n",
    "            break\n",
    "    print(\"输入x为:\")\n",
    "    print(x)\n",
    "    print(\"输入x 的类别为%s\"%(y))\n",
    "    \n",
    "    return y"
   ]
  },
  {
   "cell_type": "code",
   "execution_count": 43,
   "metadata": {},
   "outputs": [
    {
     "name": "stdout",
     "output_type": "stream",
     "text": [
      "输入x为:\n",
      "tensor([[0, 0, 0, 0, 1, 0],\n",
      "        [0, 0, 0, 1, 1, 0],\n",
      "        [0, 0, 1, 0, 1, 0],\n",
      "        [0, 1, 1, 1, 1, 1],\n",
      "        [0, 0, 0, 0, 1, 0],\n",
      "        [0, 0, 0, 0, 0, 0]])\n",
      "输入x 的类别为4\n"
     ]
    },
    {
     "data": {
      "text/plain": [
       "4"
      ]
     },
     "execution_count": 43,
     "metadata": {},
     "output_type": "execute_result"
    }
   ],
   "source": [
    "model(image_data[4],image_data)"
   ]
  },
  {
   "cell_type": "code",
   "execution_count": null,
   "metadata": {
    "collapsed": true
   },
   "outputs": [],
   "source": []
  },
  {
   "cell_type": "code",
   "execution_count": null,
   "metadata": {
    "collapsed": true
   },
   "outputs": [],
   "source": []
  },
  {
   "cell_type": "code",
   "execution_count": null,
   "metadata": {
    "collapsed": true
   },
   "outputs": [],
   "source": []
  },
  {
   "cell_type": "code",
   "execution_count": null,
   "metadata": {
    "collapsed": true
   },
   "outputs": [],
   "source": []
  }
 ],
 "metadata": {
  "kernelspec": {
   "display_name": "Python 3",
   "language": "python",
   "name": "python3"
  },
  "language_info": {
   "codemirror_mode": {
    "name": "ipython",
    "version": 3
   },
   "file_extension": ".py",
   "mimetype": "text/x-python",
   "name": "python",
   "nbconvert_exporter": "python",
   "pygments_lexer": "ipython3",
   "version": "3.6.7"
  },
  "toc": {
   "base_numbering": 1,
   "nav_menu": {},
   "number_sections": true,
   "sideBar": true,
   "skip_h1_title": false,
   "title_cell": "Table of Contents",
   "title_sidebar": "Contents",
   "toc_cell": false,
   "toc_position": {},
   "toc_section_display": true,
   "toc_window_display": false
  }
 },
 "nbformat": 4,
 "nbformat_minor": 2
}
